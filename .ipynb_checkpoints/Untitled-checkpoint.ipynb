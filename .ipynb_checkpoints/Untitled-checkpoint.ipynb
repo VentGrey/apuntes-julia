{
 "cells": [
  {
   "cell_type": "markdown",
   "metadata": {},
   "source": [
    "# Bases del lenguade de programación Julia\n",
    "\n",
    "En esta Jupyter notebook llevaré mis notas del lenguaje de programación Julia conforme lo voy aprendiendo. Todo lo redactado aquí está bajo la licencia FLD (Gnu Free Documentation License) y el código está bajo la licencia GPL (Gnu General Public License).\n",
    "\n",
    "\n",
    "# Iniciando con Julia"
   ]
  }
 ],
 "metadata": {
  "kernelspec": {
   "display_name": "Python 3",
   "language": "python",
   "name": "python3"
  },
  "language_info": {
   "codemirror_mode": {
    "name": "ipython",
    "version": 3
   },
   "file_extension": ".py",
   "mimetype": "text/x-python",
   "name": "python",
   "nbconvert_exporter": "python",
   "pygments_lexer": "ipython3",
   "version": "3.8.6"
  }
 },
 "nbformat": 4,
 "nbformat_minor": 4
}
