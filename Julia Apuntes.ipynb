{
 "cells": [
  {
   "cell_type": "markdown",
   "metadata": {},
   "source": [
    "# Bases del lenguade de programación Julia\n",
    "\n",
    "En esta Jupyter notebook llevaré mis notas del lenguaje de programación Julia conforme lo voy aprendiendo. Todo lo redactado aquí está bajo la licencia FLD (Gnu Free Documentation License) y el código está bajo la licencia GPL (Gnu General Public License).\n",
    "\n",
    "\n",
    "# Iniciando con Julia\n",
    "\n",
    "Los lenguajes como Python, Matlab y otros son buenos para el desarrollo general. Sin embargo estos lenguajes son lentos hasta cierto punto o en ciertas ocasiones específicas donde es necesario el *performance* y la presición de los resultados y, si bien existen bibliotecas como Numba u otras lo cierto es que la compatibilidad con otras herramientas que puedan graficar o manejar matrices utilizando cython puede verse mermada.\n",
    "\n",
    "Del otro lado los lenguajes como C, C++ o Rust pueden ser altamente eficientes y precisos, sin embargo son complejos de escribir, dar mantenimiento e incluso arreglar programas con errores de memoria o altamente *verbose* puede volverse cansado.\n",
    "\n",
    "## Julia resuelve esto.\n",
    "\n",
    "Julia es un lenguaje de programación de alto nivel, con una sintáxis similar a Python PERO posee una característica peculiar. Es un lenguaje compilado en tiempo real **JIT** similar a Lua JIT por ejemplo.\n",
    "\n",
    "Además de esto la compilación en tiempo de Julia es *ahead of time* lo que le permite ser altamente flexible y veloz al mismo tiempo. Por supuesto que el lenguaje no es perfecto, "
   ]
  }
 ],
 "metadata": {
  "kernelspec": {
   "display_name": "Julia 1.4.1",
   "language": "julia",
   "name": "julia-1.4"
  },
  "language_info": {
   "codemirror_mode": {
    "name": "ipython",
    "version": 3
   },
   "file_extension": ".py",
   "mimetype": "text/x-python",
   "name": "python",
   "nbconvert_exporter": "python",
   "pygments_lexer": "ipython3",
   "version": "3.8.6"
  }
 },
 "nbformat": 4,
 "nbformat_minor": 4
}
